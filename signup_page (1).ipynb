{
 "cells": [
  {
   "cell_type": "code",
   "execution_count": null,
   "id": "7a857240-7943-4b86-ae1c-bd9df7b3365e",
   "metadata": {},
   "outputs": [],
   "source": [
    "def login_window():\n",
    "    login_app = ctk.CTk()\n",
    "    login_app.title(\"Company Login - ElectroSales\")\n",
    "    login_app.geometry(\"1200x700\")\n",
    "    login_app.resizable(False, False)\n",
    "\n",
    "    ctk.CTkLabel(login_app, text=\"🔐 Login\", font=(\"Arial\", 24, \"bold\")).pack(pady=(40, 20))\n",
    "\n",
    "    # Username\n",
    "    ctk.CTkLabel(login_app, text=\"Username:\", font=(\"Arial\", 15)).pack(pady=(10, 0))\n",
    "    username_entry = ctk.CTkEntry(login_app, placeholder_text=\"Enter your username\")\n",
    "    username_entry.pack(pady=5)\n",
    "\n",
    "    # Password\n",
    "    ctk.CTkLabel(login_app, text=\"Password:\", font=(\"Arial\", 15)).pack(pady=(10, 0))\n",
    "    password_entry = ctk.CTkEntry(login_app, placeholder_text=\"Enter your password\", show=\"*\")\n",
    "    password_entry.pack(pady=5)\n",
    "\n",
    "    # Show password checkbox\n",
    "    def toggle_password():\n",
    "        password_entry.configure(show=\"\" if password_entry.cget(\"show\") == \"\" else \"\")\n",
    "\n",
    "    ctk.CTkCheckBox(login_app, text=\"Show Password\", command=toggle_password).pack(pady=5)\n",
    "\n",
    "    # Validate login\n",
    "    def validate_login():\n",
    "        username = username_entry.get()\n",
    "        password = password_entry.get()\n",
    "        try:\n",
    "            cursor.execute(\"SELECT * FROM Users WHERE Username = ? AND Password = ?\", (username, password))\n",
    "            user = cursor.fetchone()\n",
    "            if user:\n",
    "                login_app.destroy()        # First destroy login window\n",
    "                app.deiconify()           # Then show the main app\n",
    "                app.after(100, lambda: messagebox.showinfo(\"Login Successful\", f\"Welcome {username}!\"))  # Delay to allow GUI to update\n",
    "            else:\n",
    "                messagebox.showerror(\"Invalid Login\", \"Incorrect username or password.\")\n",
    "        except Exception as e:\n",
    "            messagebox.showerror(\"Error\", str(e))\n",
    "\n",
    "\n",
    "    ctk.CTkButton(login_app, text=\"Login\", width=200, command=validate_login).pack(pady=20)\n",
    "    ctk.CTkLabel(login_app, text=\"Username:-admin,Password:-admin123\", font=(\"Arial\", 15), text_color=\"#888\").pack(side=\"bottom\", pady=10)\n",
    "\n",
    "    login_app.mainloop()\n",
    "\n",
    "# ✅ Setup users and start login\n",
    "setup_dummy_users()\n",
    "login_window()\n"
   ]
  }
 ],
 "metadata": {
  "kernelspec": {
   "display_name": "Python [conda env:base] *",
   "language": "python",
   "name": "conda-base-py"
  },
  "language_info": {
   "codemirror_mode": {
    "name": "ipython",
    "version": 3
   },
   "file_extension": ".py",
   "mimetype": "text/x-python",
   "name": "python",
   "nbconvert_exporter": "python",
   "pygments_lexer": "ipython3",
   "version": "3.12.7"
  }
 },
 "nbformat": 4,
 "nbformat_minor": 5
}
