{
 "cells": [
  {
   "cell_type": "code",
   "execution_count": null,
   "id": "2d9c738b-b4ce-4e61-ba2f-748c94cbb7e9",
   "metadata": {},
   "outputs": [],
   "source": []
  }
 ],
 "metadata": {
  "kernelspec": {
   "display_name": "",
   "name": ""
  },
  "language_info": {
   "name": ""
  }
 },
 "nbformat": 4,
 "nbformat_minor": 5
}
